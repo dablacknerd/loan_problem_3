{
 "cells": [
  {
   "cell_type": "code",
   "execution_count": 1,
   "metadata": {
    "collapsed": true
   },
   "outputs": [],
   "source": [
    "import pandas as pd\n",
    "import os\n",
    "import numpy as np"
   ]
  },
  {
   "cell_type": "code",
   "execution_count": 2,
   "metadata": {
    "collapsed": true
   },
   "outputs": [],
   "source": [
    "filr_test = os.path.join(os.getcwd(),'data','test.csv')\n",
    "df_test = pd.read_csv(filr_test)"
   ]
  },
  {
   "cell_type": "code",
   "execution_count": 3,
   "metadata": {},
   "outputs": [],
   "source": [
    "#df_test.info()\n",
    "problem_cols = ['Gender','Dependents','Self_Employed','LoanAmount','Loan_Amount_Term','Credit_History']"
   ]
  },
  {
   "cell_type": "code",
   "execution_count": 4,
   "metadata": {
    "collapsed": true
   },
   "outputs": [],
   "source": [
    "gender_binary = []\n",
    "for x in df_test['Gender'].values:\n",
    "    if x == 'Male':\n",
    "        gender_binary.append(1)\n",
    "    elif x == 'Female':\n",
    "        gender_binary.append(0)\n",
    "    else:\n",
    "        gender_binary.append(x)"
   ]
  },
  {
   "cell_type": "code",
   "execution_count": 5,
   "metadata": {},
   "outputs": [],
   "source": [
    "from sklearn.preprocessing import Imputer"
   ]
  },
  {
   "cell_type": "code",
   "execution_count": 6,
   "metadata": {
    "collapsed": true
   },
   "outputs": [],
   "source": [
    "impute_mode = Imputer(strategy='most_frequent')\n",
    "impute_mean = Imputer(strategy='mean')\n",
    "impute_median = Imputer(strategy='median')"
   ]
  },
  {
   "cell_type": "code",
   "execution_count": 7,
   "metadata": {},
   "outputs": [],
   "source": [
    "gender_imputed = impute_mode.fit_transform(np.array(gender_binary).reshape(-1,1))"
   ]
  },
  {
   "cell_type": "code",
   "execution_count": 8,
   "metadata": {},
   "outputs": [
    {
     "data": {
      "text/plain": [
       "Index(['Loan_ID', 'Gender', 'Married', 'Dependents', 'Education',\n",
       "       'Self_Employed', 'ApplicantIncome', 'CoapplicantIncome', 'LoanAmount',\n",
       "       'Loan_Amount_Term', 'Credit_History', 'Property_Area',\n",
       "       'Gender_Imputed'],\n",
       "      dtype='object')"
      ]
     },
     "execution_count": 8,
     "metadata": {},
     "output_type": "execute_result"
    }
   ],
   "source": [
    "df_test = df_test.assign(Gender_Imputed = gender_imputed)\n",
    "df_test.columns"
   ]
  },
  {
   "cell_type": "code",
   "execution_count": 9,
   "metadata": {},
   "outputs": [],
   "source": [
    "dependents = []\n",
    "for item in list(df_test['Dependents'].values):\n",
    "    if item == '3+':\n",
    "        dependents.append(3)\n",
    "    elif item == '0':\n",
    "        dependents.append(0)\n",
    "    elif item == '1':\n",
    "        dependents.append(1)\n",
    "    elif item == '2':\n",
    "        dependents.append(2)\n",
    "    else:\n",
    "        dependents.append(item)"
   ]
  },
  {
   "cell_type": "code",
   "execution_count": 10,
   "metadata": {},
   "outputs": [],
   "source": [
    "impute_median = Imputer(strategy='median')\n",
    "deps_impute_1 = impute_mode.fit_transform(np.array(dependents).reshape(-1,1))\n",
    "deps_impute_1[100:]\n",
    "deps_impute_2 = []\n",
    "\n",
    "for x in deps_impute_1:\n",
    "    if x == 0.00:\n",
    "        deps_impute_2.append('0')\n",
    "    elif x == 1.00:\n",
    "        deps_impute_2.append('1')\n",
    "    elif x == 2.00:\n",
    "        deps_impute_2.append('2')\n",
    "    else:\n",
    "        deps_impute_2.append('3+')"
   ]
  },
  {
   "cell_type": "code",
   "execution_count": 11,
   "metadata": {},
   "outputs": [
    {
     "data": {
      "text/plain": [
       "Index(['Loan_ID', 'Gender', 'Married', 'Dependents', 'Education',\n",
       "       'Self_Employed', 'ApplicantIncome', 'CoapplicantIncome', 'LoanAmount',\n",
       "       'Loan_Amount_Term', 'Credit_History', 'Property_Area', 'Gender_Imputed',\n",
       "       'Dependent_Imputed'],\n",
       "      dtype='object')"
      ]
     },
     "execution_count": 11,
     "metadata": {},
     "output_type": "execute_result"
    }
   ],
   "source": [
    "df_test = df_test.assign(Dependent_Imputed = deps_impute_2)\n",
    "df_test.columns"
   ]
  },
  {
   "cell_type": "code",
   "execution_count": 12,
   "metadata": {},
   "outputs": [],
   "source": [
    "df_test['Self_Employed']\n",
    "employment_binary = []\n",
    "for x in df_test['Self_Employed'].values:\n",
    "    if x == 'Yes':\n",
    "        employment_binary.append(1)\n",
    "    elif x == 'No':\n",
    "        employment_binary.append(0)\n",
    "    else:\n",
    "        employment_binary.append(x)\n",
    "\n",
    "employment_imputed = impute_mode.fit_transform(np.array(employment_binary).reshape(-1,1))"
   ]
  },
  {
   "cell_type": "code",
   "execution_count": 13,
   "metadata": {},
   "outputs": [
    {
     "data": {
      "text/plain": [
       "Index(['Loan_ID', 'Gender', 'Married', 'Dependents', 'Education',\n",
       "       'Self_Employed', 'ApplicantIncome', 'CoapplicantIncome', 'LoanAmount',\n",
       "       'Loan_Amount_Term', 'Credit_History', 'Property_Area', 'Gender_Imputed',\n",
       "       'Dependent_Imputed', 'Self_Employed_Imputed'],\n",
       "      dtype='object')"
      ]
     },
     "execution_count": 13,
     "metadata": {},
     "output_type": "execute_result"
    }
   ],
   "source": [
    "df_test = df_test.assign(Self_Employed_Imputed = employment_imputed)\n",
    "df_test.columns"
   ]
  },
  {
   "cell_type": "code",
   "execution_count": 14,
   "metadata": {},
   "outputs": [],
   "source": [
    "loan_amount_imputed = impute_mean.fit_transform(df_test['LoanAmount'].values.reshape(-1,1))"
   ]
  },
  {
   "cell_type": "code",
   "execution_count": 15,
   "metadata": {},
   "outputs": [
    {
     "data": {
      "text/plain": [
       "Index(['Loan_ID', 'Gender', 'Married', 'Dependents', 'Education',\n",
       "       'Self_Employed', 'ApplicantIncome', 'CoapplicantIncome', 'LoanAmount',\n",
       "       'Loan_Amount_Term', 'Credit_History', 'Property_Area', 'Gender_Imputed',\n",
       "       'Dependent_Imputed', 'Self_Employed_Imputed', 'LoanAmount_Imputed'],\n",
       "      dtype='object')"
      ]
     },
     "execution_count": 15,
     "metadata": {},
     "output_type": "execute_result"
    }
   ],
   "source": [
    "df_test = df_test.assign(LoanAmount_Imputed = loan_amount_imputed)\n",
    "df_test.columns"
   ]
  },
  {
   "cell_type": "code",
   "execution_count": 16,
   "metadata": {},
   "outputs": [
    {
     "data": {
      "text/plain": [
       "Index(['Loan_ID', 'Gender', 'Married', 'Dependents', 'Education',\n",
       "       'Self_Employed', 'ApplicantIncome', 'CoapplicantIncome', 'LoanAmount',\n",
       "       'Loan_Amount_Term', 'Credit_History', 'Property_Area', 'Gender_Imputed',\n",
       "       'Dependent_Imputed', 'Self_Employed_Imputed', 'LoanAmount_Imputed',\n",
       "       'Loan_Amount_Term_Imputed'],\n",
       "      dtype='object')"
      ]
     },
     "execution_count": 16,
     "metadata": {},
     "output_type": "execute_result"
    }
   ],
   "source": [
    "loan_amount_term_imputed = impute_mode.fit_transform(df_test['Loan_Amount_Term'].values.reshape(-1,1))\n",
    "df_test = df_test.assign(Loan_Amount_Term_Imputed = loan_amount_term_imputed)\n",
    "df_test.columns"
   ]
  },
  {
   "cell_type": "code",
   "execution_count": 17,
   "metadata": {},
   "outputs": [
    {
     "data": {
      "text/plain": [
       "Index(['Loan_ID', 'Gender', 'Married', 'Dependents', 'Education',\n",
       "       'Self_Employed', 'ApplicantIncome', 'CoapplicantIncome', 'LoanAmount',\n",
       "       'Loan_Amount_Term', 'Credit_History', 'Property_Area', 'Gender_Imputed',\n",
       "       'Dependent_Imputed', 'Self_Employed_Imputed', 'LoanAmount_Imputed',\n",
       "       'Loan_Amount_Term_Imputed', 'Credit_History_Imputed'],\n",
       "      dtype='object')"
      ]
     },
     "execution_count": 17,
     "metadata": {},
     "output_type": "execute_result"
    }
   ],
   "source": [
    "credit_history_imputed = impute_mode.fit_transform(df_test['Credit_History'].values.reshape(-1,1))\n",
    "df_test = df_test.assign(Credit_History_Imputed = credit_history_imputed )\n",
    "df_test.columns"
   ]
  },
  {
   "cell_type": "code",
   "execution_count": 18,
   "metadata": {
    "collapsed": true
   },
   "outputs": [],
   "source": [
    "cols_of_interest =[\n",
    "    'Loan_ID','Gender_Imputed', 'Married','Dependent_Imputed', 'Education',\n",
    "       'Self_Employed_Imputed', 'ApplicantIncome', 'CoapplicantIncome', 'LoanAmount_Imputed',\n",
    "       'Loan_Amount_Term_Imputed','Credit_History_Imputed', 'Property_Area'\n",
    "]\n",
    "\n",
    "cols_final = ['Loan_ID','Gender', 'Married','Dependent', 'Education',\n",
    "              'Self_Employed', 'ApplicantIncome', 'CoapplicantIncome', 'LoanAmount',\n",
    "              'Loan_Amount_Term','Credit_History', 'Property_Area'\n",
    "]"
   ]
  },
  {
   "cell_type": "code",
   "execution_count": 19,
   "metadata": {
    "collapsed": true
   },
   "outputs": [],
   "source": [
    "final_np = df_test[cols_of_interest].values"
   ]
  },
  {
   "cell_type": "code",
   "execution_count": 20,
   "metadata": {},
   "outputs": [
    {
     "name": "stdout",
     "output_type": "stream",
     "text": [
      "<class 'pandas.core.frame.DataFrame'>\n",
      "RangeIndex: 367 entries, 0 to 366\n",
      "Data columns (total 12 columns):\n",
      "Loan_ID              367 non-null object\n",
      "Gender               367 non-null object\n",
      "Married              367 non-null object\n",
      "Dependent            367 non-null object\n",
      "Education            367 non-null object\n",
      "Self_Employed        367 non-null object\n",
      "ApplicantIncome      367 non-null object\n",
      "CoapplicantIncome    367 non-null object\n",
      "LoanAmount           367 non-null object\n",
      "Loan_Amount_Term     367 non-null object\n",
      "Credit_History       367 non-null object\n",
      "Property_Area        367 non-null object\n",
      "dtypes: object(12)\n",
      "memory usage: 34.5+ KB\n"
     ]
    }
   ],
   "source": [
    "final_df = pd.DataFrame(final_np,columns=cols_final)\n",
    "final_df.info()"
   ]
  },
  {
   "cell_type": "code",
   "execution_count": 21,
   "metadata": {
    "collapsed": true
   },
   "outputs": [],
   "source": [
    "final_df.to_csv(os.path.join(os.getcwd(),'data','test_2.csv'),index = False)"
   ]
  },
  {
   "cell_type": "code",
   "execution_count": null,
   "metadata": {
    "collapsed": true
   },
   "outputs": [],
   "source": []
  }
 ],
 "metadata": {
  "kernelspec": {
   "display_name": "Python 3",
   "language": "python",
   "name": "python3"
  },
  "language_info": {
   "codemirror_mode": {
    "name": "ipython",
    "version": 3
   },
   "file_extension": ".py",
   "mimetype": "text/x-python",
   "name": "python",
   "nbconvert_exporter": "python",
   "pygments_lexer": "ipython3",
   "version": "3.6.2"
  }
 },
 "nbformat": 4,
 "nbformat_minor": 2
}
