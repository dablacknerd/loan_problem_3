{
 "cells": [
  {
   "cell_type": "code",
   "execution_count": 1,
   "metadata": {
    "collapsed": true
   },
   "outputs": [],
   "source": [
    "import os\n",
    "import pandas as pd\n",
    "import numpy as np\n",
    "from sklearn.linear_model import LogisticRegression\n",
    "from sklearn import svm\n",
    "from sklearn.metrics import classification_report,accuracy_score,roc_auc_score\n",
    "from sklearn.model_selection import cross_val_score"
   ]
  },
  {
   "cell_type": "code",
   "execution_count": 2,
   "metadata": {
    "collapsed": true
   },
   "outputs": [],
   "source": [
    "from sklearn.preprocessing import OneHotEncoder,StandardScaler\n",
    "from sklearn.pipeline import Pipeline\n",
    "from categorical_encoder import CategoricalEncoder,DataFrameSelector\n",
    "from sklearn.pipeline import FeatureUnion\n",
    "from sklearn.model_selection import train_test_split\n"
   ]
  },
  {
   "cell_type": "code",
   "execution_count": 4,
   "metadata": {
    "collapsed": true
   },
   "outputs": [],
   "source": [
    "filr = os.path.join(os.getcwd(),'data','loan_problem_3.csv')\n",
    "df = pd.read_csv(filr)\n",
    "df1 = df.dropna()"
   ]
  },
  {
   "cell_type": "code",
   "execution_count": 6,
   "metadata": {
    "collapsed": true
   },
   "outputs": [],
   "source": [
    "cat_features = ['Gender','Married','Education','Self_Employed','Property_Area','Dependents']\n",
    "num_features = ['ApplicantIncome','CoapplicantIncome','LoanAmount','Loan_Amount_Term','Credit_History']"
   ]
  },
  {
   "cell_type": "code",
   "execution_count": 7,
   "metadata": {},
   "outputs": [],
   "source": [
    "num_pipeline = Pipeline([\n",
    "        ('selector', DataFrameSelector(num_features)),\n",
    "        ('std_scaler', StandardScaler()),\n",
    "    ])\n",
    "\n",
    "cat_pipeline = Pipeline([\n",
    "        ('selector', DataFrameSelector(cat_features)),\n",
    "        ('cat_encoder', CategoricalEncoder(encoding=\"onehot-dense\")),\n",
    "    ])\n",
    "\n",
    "full_pipeline = FeatureUnion(transformer_list=[\n",
    "        (\"num_pipeline\", num_pipeline),\n",
    "        (\"cat_pipeline\", cat_pipeline),\n",
    "    ])"
   ]
  },
  {
   "cell_type": "code",
   "execution_count": 8,
   "metadata": {
    "collapsed": true
   },
   "outputs": [],
   "source": [
    "X = full_pipeline.fit_transform(df1)\n",
    "y,y_cats = df1['Loan_Status'].factorize()\n",
    "X_train, X_test, y_train, y_test = train_test_split(X, y, test_size=0.30, random_state=42)"
   ]
  },
  {
   "cell_type": "code",
   "execution_count": 9,
   "metadata": {
    "collapsed": true
   },
   "outputs": [],
   "source": [
    "logreg = LogisticRegression()\n",
    "svm_model_rbf = svm.SVC(kernel='rbf',probability=True)"
   ]
  },
  {
   "cell_type": "code",
   "execution_count": 10,
   "metadata": {},
   "outputs": [
    {
     "data": {
      "text/plain": [
       "LogisticRegression(C=1.0, class_weight=None, dual=False, fit_intercept=True,\n",
       "          intercept_scaling=1, max_iter=100, multi_class='ovr', n_jobs=1,\n",
       "          penalty='l2', random_state=None, solver='liblinear', tol=0.0001,\n",
       "          verbose=0, warm_start=False)"
      ]
     },
     "execution_count": 10,
     "metadata": {},
     "output_type": "execute_result"
    }
   ],
   "source": [
    "logreg.fit(X_train,y_train)"
   ]
  },
  {
   "cell_type": "code",
   "execution_count": 12,
   "metadata": {},
   "outputs": [
    {
     "data": {
      "text/plain": [
       "SVC(C=1.0, cache_size=200, class_weight=None, coef0=0.0,\n",
       "  decision_function_shape='ovr', degree=3, gamma='auto', kernel='rbf',\n",
       "  max_iter=-1, probability=True, random_state=None, shrinking=True,\n",
       "  tol=0.001, verbose=False)"
      ]
     },
     "execution_count": 12,
     "metadata": {},
     "output_type": "execute_result"
    }
   ],
   "source": [
    "svm_model_rbf.fit(X_train,y_train)"
   ]
  },
  {
   "cell_type": "code",
   "execution_count": 13,
   "metadata": {
    "collapsed": true
   },
   "outputs": [],
   "source": [
    "preds_rbf = svm_model_rbf.predict(X_test)\n",
    "proba_rbf  = svm_model_rbf.predict_proba(X_test)"
   ]
  },
  {
   "cell_type": "code",
   "execution_count": 14,
   "metadata": {
    "collapsed": true
   },
   "outputs": [],
   "source": [
    "preds = logreg.predict(X_test)\n",
    "proba  = logreg.predict_proba(X_test)"
   ]
  },
  {
   "cell_type": "code",
   "execution_count": 16,
   "metadata": {},
   "outputs": [
    {
     "name": "stdout",
     "output_type": "stream",
     "text": [
      "Classification Report for Logistic Regression:\n",
      "             precision    recall  f1-score   support\n",
      "\n",
      "          0       1.00      0.36      0.53        44\n",
      "          1       0.78      1.00      0.88       100\n",
      "\n",
      "avg / total       0.85      0.81      0.77       144\n",
      "\n"
     ]
    }
   ],
   "source": [
    "print(\"Classification Report for Logistic Regression:\")\n",
    "print(classification_report(y_test,preds))"
   ]
  },
  {
   "cell_type": "code",
   "execution_count": 17,
   "metadata": {},
   "outputs": [
    {
     "name": "stdout",
     "output_type": "stream",
     "text": [
      "Classification Report for SVM with RBF Kernel:\n",
      "             precision    recall  f1-score   support\n",
      "\n",
      "          0       1.00      0.34      0.51        44\n",
      "          1       0.78      1.00      0.87       100\n",
      "\n",
      "avg / total       0.84      0.80      0.76       144\n",
      "\n"
     ]
    }
   ],
   "source": [
    "print(\"Classification Report for SVM with RBF Kernel:\")\n",
    "print(classification_report(y_test,preds_rbf))"
   ]
  },
  {
   "cell_type": "code",
   "execution_count": 69,
   "metadata": {},
   "outputs": [
    {
     "name": "stdout",
     "output_type": "stream",
     "text": [
      "Logistic Regression: 0.87\n",
      "SVM with RBF: 0.88\n"
     ]
    }
   ],
   "source": [
    "logreg_cv_5 = cross_val_score(LogisticRegression(),X_train,y_train,scoring='f1',cv=5)\n",
    "svm_rbf_cv_5 = cross_val_score(svm.SVC(),X_train,y_train,scoring='f1',cv=5)\n",
    "\n",
    "print('Logistic Regression: ' + str(round(logreg_cv_5.mean(),2)))\n",
    "print('SVM with RBF: ' + str(round(svm_rbf_cv_5.mean(),2)))"
   ]
  },
  {
   "cell_type": "code",
   "execution_count": 66,
   "metadata": {},
   "outputs": [
    {
     "name": "stdout",
     "output_type": "stream",
     "text": [
      "Logistic Regression (Precision): 0.8\n",
      "SVM with RBF (Precision): 0.8\n"
     ]
    }
   ],
   "source": [
    "logreg_cv_5 = cross_val_score(LogisticRegression(),X_train,y_train,scoring='precision',cv=10)\n",
    "svm_rbf_cv_5 = cross_val_score(svm.SVC(),X_train,y_train,scoring='precision',cv=10)\n",
    "\n",
    "print('Logistic Regression (Precision): ' + str(round(logreg_cv_5.mean(),2)))\n",
    "print('SVM with RBF (Precision): ' + str(round(svm_rbf_cv_5.mean(),2)))"
   ]
  },
  {
   "cell_type": "code",
   "execution_count": 67,
   "metadata": {},
   "outputs": [
    {
     "name": "stdout",
     "output_type": "stream",
     "text": [
      "Logistic Regression (Recall): 0.96\n",
      "SVM with RBF (Recall): 0.97\n"
     ]
    }
   ],
   "source": [
    "logreg_cv_5 = cross_val_score(LogisticRegression(),X_train,y_train,scoring='recall',cv=10)\n",
    "svm_rbf_cv_5 = cross_val_score(svm.SVC(),X_train,y_train,scoring='recall',cv=10)\n",
    "\n",
    "print('Logistic Regression (Recall): ' + str(round(logreg_cv_5.mean(),2)))\n",
    "print('SVM with RBF (Recall): ' + str(round(svm_rbf_cv_5.mean(),2)))"
   ]
  },
  {
   "cell_type": "code",
   "execution_count": 22,
   "metadata": {
    "collapsed": true
   },
   "outputs": [],
   "source": [
    "from sklearn.model_selection import cross_val_predict"
   ]
  },
  {
   "cell_type": "code",
   "execution_count": 31,
   "metadata": {
    "collapsed": true
   },
   "outputs": [],
   "source": [
    "y_scores_svm = cross_val_predict(svm.SVC(),X_train,y_train,cv = 5, method ='decision_function')\n",
    "y_scores_logreg = cross_val_predict(logreg,X_train,y_train,cv = 5, method ='decision_function')"
   ]
  },
  {
   "cell_type": "code",
   "execution_count": 44,
   "metadata": {},
   "outputs": [],
   "source": [
    "from sklearn.metrics import precision_recall_curve\n",
    "\n",
    "precisions_svm, recalls_svm, thresholds_svm = precision_recall_curve(y_train,y_scores_svm[:,1])\n",
    "precisions_logreg, recalls_logreg, thresholds_logreg = precision_recall_curve(y_train,y_scores_logreg[:,1])"
   ]
  },
  {
   "cell_type": "code",
   "execution_count": 45,
   "metadata": {},
   "outputs": [],
   "source": [
    "%matplotlib inline\n",
    "import matplotlib\n",
    "import matplotlib.pyplot as plt"
   ]
  },
  {
   "cell_type": "code",
   "execution_count": 46,
   "metadata": {},
   "outputs": [],
   "source": [
    "def plot_precision_recall_vs_threshold(precisions, recalls, thresholds):\n",
    "    plt.plot(thresholds, precisions[:-1], \"b--\", label=\"Precision\", linewidth=2)\n",
    "    plt.plot(thresholds, recalls[:-1], \"g-\", label=\"Recall\", linewidth=2)\n",
    "    plt.xlabel(\"Threshold\", fontsize=16)\n",
    "    plt.legend(loc=\"upper left\", fontsize=16)\n",
    "    plt.ylim([0, 1])"
   ]
  },
  {
   "cell_type": "code",
   "execution_count": 59,
   "metadata": {},
   "outputs": [
    {
     "data": {
      "image/png": "[encoded data removed]",
      "text/plain": [
       "<matplotlib.figure.Figure at 0x1a1e6223c8>"
      ]
     },
     "metadata": {},
     "output_type": "display_data"
    }
   ],
   "source": [
    "plt.figure(figsize=(8, 4))\n",
    "plot_precision_recall_vs_threshold(precisions_svm, recalls_svm, thresholds_svm)\n",
    "plt.xlim([-2, 2])\n",
    "#save_fig(\"precision_recall_vs_threshold_plot \")\n",
    "plt.show()"
   ]
  },
  {
   "cell_type": "code",
   "execution_count": 57,
   "metadata": {},
   "outputs": [
    {
     "data": {
      "image/png": "[encoded data removed]",
      "text/plain": [
       "<matplotlib.figure.Figure at 0x1a1ea09cc0>"
      ]
     },
     "metadata": {},
     "output_type": "display_data"
    }
   ],
   "source": [
    "plt.figure(figsize=(8, 4))\n",
    "plot_precision_recall_vs_threshold(precisions_logreg, recalls_logreg, thresholds_logreg)\n",
    "plt.xlim([-3, 3])\n",
    "#save_fig(\"precision_recall_vs_threshold_plot \")\n",
    "plt.show()"
   ]
  },
  {
   "cell_type": "code",
   "execution_count": 49,
   "metadata": {
    "collapsed": true
   },
   "outputs": [],
   "source": [
    "def plot_precision_vs_recall(precisions, recalls):\n",
    "    plt.plot(recalls, precisions, \"b-\", linewidth=2)\n",
    "    plt.xlabel(\"Recall\", fontsize=16)\n",
    "    plt.ylabel(\"Precision\", fontsize=16)\n",
    "    plt.axis([0, 1, 0, 1])"
   ]
  },
  {
   "cell_type": "code",
   "execution_count": 51,
   "metadata": {},
   "outputs": [
    {
     "data": {
      "image/png": "[encoded data removed]",
      "text/plain": [
       "<matplotlib.figure.Figure at 0x1a1e678f98>"
      ]
     },
     "metadata": {},
     "output_type": "display_data"
    }
   ],
   "source": [
    "plt.figure(figsize=(8, 6))\n",
    "plot_precision_vs_recall(precisions_logreg, recalls_logreg)\n",
    "#save_fig(\"precision_vs_recall_plot\")\n",
    "plt.show()"
   ]
  },
  {
   "cell_type": "code",
   "execution_count": 52,
   "metadata": {},
   "outputs": [
    {
     "data": {
      "image/png": "[encoded data removed]",
      "text/plain": [
       "<matplotlib.figure.Figure at 0x1a1e771dd8>"
      ]
     },
     "metadata": {},
     "output_type": "display_data"
    }
   ],
   "source": [
    "plt.figure(figsize=(8, 6))\n",
    "plot_precision_vs_recall(precisions_svm, recalls_svm)\n",
    "#save_fig(\"precision_vs_recall_plot\")\n",
    "plt.show()"
   ]
  },
  {
   "cell_type": "code",
   "execution_count": 60,
   "metadata": {},
   "outputs": [],
   "source": [
    "from sklearn.metrics import roc_curve\n",
    "\n",
    "fpr_svm, tpr_svm, thresholds_svm = roc_curve(y_train, y_scores_svm[:,1])"
   ]
  },
  {
   "cell_type": "code",
   "execution_count": 63,
   "metadata": {
    "collapsed": true
   },
   "outputs": [],
   "source": [
    "fpr_logreg, tpr_logreg, thresholds_logreg = roc_curve(y_train, y_scores_logreg[:,1])"
   ]
  },
  {
   "cell_type": "code",
   "execution_count": 61,
   "metadata": {
    "collapsed": true
   },
   "outputs": [],
   "source": [
    "def plot_roc_curve(fpr, tpr, label=None):\n",
    "    plt.plot(fpr, tpr, linewidth=2, label=label)\n",
    "    plt.plot([0, 1], [0, 1], 'k--')\n",
    "    plt.axis([0, 1, 0, 1])\n",
    "    plt.xlabel('False Positive Rate', fontsize=16)\n",
    "    plt.ylabel('True Positive Rate', fontsize=16)"
   ]
  },
  {
   "cell_type": "code",
   "execution_count": 62,
   "metadata": {},
   "outputs": [
    {
     "data": {
      "image/png": "[encoded data removed]",
      "text/plain": [
       "<matplotlib.figure.Figure at 0x1a1e51c358>"
      ]
     },
     "metadata": {},
     "output_type": "display_data"
    }
   ],
   "source": [
    "plt.figure(figsize=(8, 6))\n",
    "plot_roc_curve(fpr_svm, tpr_svm)\n",
    "#save_fig(\"roc_curve_plot\")\n",
    "plt.show()"
   ]
  },
  {
   "cell_type": "code",
   "execution_count": 64,
   "metadata": {},
   "outputs": [
    {
     "data": {
      "image/png": "[encoded data removed]",
      "text/plain": [
       "<matplotlib.figure.Figure at 0x1a1d92d1d0>"
      ]
     },
     "metadata": {},
     "output_type": "display_data"
    }
   ],
   "source": [
    "plt.figure(figsize=(8, 6))\n",
    "plot_roc_curve(fpr_logreg, tpr_logreg)\n",
    "#save_fig(\"roc_curve_plot\")\n",
    "plt.show()"
   ]
  },
  {
   "cell_type": "code",
   "execution_count": 65,
   "metadata": {},
   "outputs": [
    {
     "name": "stdout",
     "output_type": "stream",
     "text": [
      "SVM ROC_AUC: 0.73\n",
      "Logistic Regression ROC_AUC: 0.72\n"
     ]
    }
   ],
   "source": [
    "from sklearn.metrics import roc_auc_score\n",
    "\n",
    "print(\"SVM ROC_AUC: \" + str(round(roc_auc_score(y_train,y_scores_svm[:,1]),2)))\n",
    "print(\"Logistic Regression ROC_AUC: \" + str(round(roc_auc_score(y_train,y_scores_logreg[:,1]),2)))"
   ]
  },
  {
   "cell_type": "code",
   "execution_count": 123,
   "metadata": {
    "collapsed": true
   },
   "outputs": [],
   "source": [
    "y_adjusted_rbf = (y_scores_svm[:,1] > 0.0)"
   ]
  },
  {
   "cell_type": "code",
   "execution_count": 99,
   "metadata": {},
   "outputs": [],
   "source": [
    "from sklearn.metrics import recall_score,precision_score,f1_score"
   ]
  },
  {
   "cell_type": "code",
   "execution_count": 124,
   "metadata": {},
   "outputs": [
    {
     "name": "stdout",
     "output_type": "stream",
     "text": [
      "Adjusted Recall: 0.97\n",
      "Adjusted Precision: 0.8\n",
      "Adjusted F1: 0.88\n"
     ]
    }
   ],
   "source": [
    "print(\"Adjusted Recall: \"  + str(round(recall_score(y_train,y_adjusted_rbf),2)))\n",
    "print(\"Adjusted Precision: \"  + str(round(precision_score(y_train,y_adjusted_rbf),2)))\n",
    "print(\"Adjusted F1: \"  + str(round(f1_score(y_train,y_adjusted_rbf),2)))"
   ]
  },
  {
   "cell_type": "code",
   "execution_count": 126,
   "metadata": {},
   "outputs": [
    {
     "name": "stdout",
     "output_type": "stream",
     "text": [
      "SVM RBF Accuracy (CV 5): 0.81\n",
      "SVM RBF Accuracy (CV 10): 0.81\n"
     ]
    }
   ],
   "source": [
    "cv_5 = cross_val_score(svm.SVC(),X_train,y_train,scoring='accuracy',cv=5)\n",
    "cv_10 = cross_val_score(svm.SVC(),X_train,y_train,scoring='accuracy',cv=10)\n",
    "\n",
    "print(\"SVM RBF Accuracy (CV 5): \" + str(round(cv_5.mean(),2)))\n",
    "print(\"SVM RBF Accuracy (CV 10): \" + str(round(cv_10.mean(),2)))"
   ]
  },
  {
   "cell_type": "code",
   "execution_count": 127,
   "metadata": {
    "collapsed": true
   },
   "outputs": [],
   "source": [
    "from sklearn.model_selection import cross_val_predict"
   ]
  },
  {
   "cell_type": "code",
   "execution_count": 135,
   "metadata": {},
   "outputs": [],
   "source": [
    "y_preds_rbf = cross_val_predict(svm_model_rbf,X_test,y_test,cv=6)\n",
    "y_preds_logreg = cross_val_predict(logreg,X_test,y_test,cv=6)"
   ]
  },
  {
   "cell_type": "code",
   "execution_count": 136,
   "metadata": {},
   "outputs": [
    {
     "name": "stdout",
     "output_type": "stream",
     "text": [
      "Logistic Regression Cross Validation (CV = 5):\n",
      "             precision    recall  f1-score   support\n",
      "\n",
      "          0       0.76      0.36      0.49        44\n",
      "          1       0.77      0.95      0.85       100\n",
      "\n",
      "avg / total       0.77      0.77      0.74       144\n",
      "\n"
     ]
    }
   ],
   "source": [
    "print(\"Logistic Regression Cross Validation (CV = 5):\")\n",
    "print(classification_report(y_test,y_preds_logreg))"
   ]
  },
  {
   "cell_type": "code",
   "execution_count": 137,
   "metadata": {},
   "outputs": [
    {
     "name": "stdout",
     "output_type": "stream",
     "text": [
      "SVM Cross Validation (CV = 5):\n",
      "             precision    recall  f1-score   support\n",
      "\n",
      "          0       1.00      0.36      0.53        44\n",
      "          1       0.78      1.00      0.88       100\n",
      "\n",
      "avg / total       0.85      0.81      0.77       144\n",
      "\n"
     ]
    }
   ],
   "source": [
    "print(\"SVM Cross Validation (CV = 5):\")\n",
    "print(classification_report(y_test,y_preds_rbf))"
   ]
  },
  {
   "cell_type": "code",
   "execution_count": null,
   "metadata": {
    "collapsed": true
   },
   "outputs": [],
   "source": []
  }
 ],
 "metadata": {
  "kernelspec": {
   "display_name": "Python 3",
   "language": "python",
   "name": "python3"
  },
  "language_info": {
   "codemirror_mode": {
    "name": "ipython",
    "version": 3
   },
   "file_extension": ".py",
   "mimetype": "text/x-python",
   "name": "python",
   "nbconvert_exporter": "python",
   "pygments_lexer": "ipython3",
   "version": "3.6.2"
  }
 },
 "nbformat": 4,
 "nbformat_minor": 2
}
