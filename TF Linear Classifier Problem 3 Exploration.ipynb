{
 "cells": [
  {
   "cell_type": "code",
   "execution_count": 1,
   "metadata": {},
   "outputs": [],
   "source": [
    "#import os\n",
    "import tensorflow as tf\n",
    "import pandas as pd\n",
    "import numpy as np\n",
    "#from sklearn import svm\n",
    "from sklearn.preprocessing import OneHotEncoder,MinMaxScaler\n",
    "from sklearn.pipeline import Pipeline\n",
    "from categorical_encoder import CategoricalEncoder,DataFrameSelector\n",
    "from sklearn.pipeline import FeatureUnion"
   ]
  },
  {
   "cell_type": "code",
   "execution_count": 2,
   "metadata": {},
   "outputs": [],
   "source": [
    "from sklearn.model_selection import train_test_split"
   ]
  },
  {
   "cell_type": "code",
   "execution_count": 29,
   "metadata": {
    "collapsed": true
   },
   "outputs": [],
   "source": [
    "from sklearn.metrics import classification_report,accuracy_score"
   ]
  },
  {
   "cell_type": "code",
   "execution_count": 3,
   "metadata": {},
   "outputs": [
    {
     "data": {
      "text/html": [
       "<div>\n",
       "<style>\n",
       "    .dataframe thead tr:only-child th {\n",
       "        text-align: right;\n",
       "    }\n",
       "\n",
       "    .dataframe thead th {\n",
       "        text-align: left;\n",
       "    }\n",
       "\n",
       "    .dataframe tbody tr th {\n",
       "        vertical-align: top;\n",
       "    }\n",
       "</style>\n",
       "<table border=\"1\" class=\"dataframe\">\n",
       "  <thead>\n",
       "    <tr style=\"text-align: right;\">\n",
       "      <th></th>\n",
       "      <th>Loan_ID</th>\n",
       "      <th>Gender</th>\n",
       "      <th>Married</th>\n",
       "      <th>Dependents</th>\n",
       "      <th>Education</th>\n",
       "      <th>Self_Employed</th>\n",
       "      <th>ApplicantIncome</th>\n",
       "      <th>CoapplicantIncome</th>\n",
       "      <th>LoanAmount</th>\n",
       "      <th>Loan_Amount_Term</th>\n",
       "      <th>Credit_History</th>\n",
       "      <th>Property_Area</th>\n",
       "      <th>Loan_Status</th>\n",
       "    </tr>\n",
       "  </thead>\n",
       "  <tbody>\n",
       "    <tr>\n",
       "      <th>1</th>\n",
       "      <td>LP001003</td>\n",
       "      <td>Male</td>\n",
       "      <td>Yes</td>\n",
       "      <td>1</td>\n",
       "      <td>Graduate</td>\n",
       "      <td>No</td>\n",
       "      <td>4583</td>\n",
       "      <td>1508.0</td>\n",
       "      <td>128.0</td>\n",
       "      <td>360.0</td>\n",
       "      <td>1.0</td>\n",
       "      <td>Rural</td>\n",
       "      <td>N</td>\n",
       "    </tr>\n",
       "    <tr>\n",
       "      <th>2</th>\n",
       "      <td>LP001005</td>\n",
       "      <td>Male</td>\n",
       "      <td>Yes</td>\n",
       "      <td>0</td>\n",
       "      <td>Graduate</td>\n",
       "      <td>Yes</td>\n",
       "      <td>3000</td>\n",
       "      <td>0.0</td>\n",
       "      <td>66.0</td>\n",
       "      <td>360.0</td>\n",
       "      <td>1.0</td>\n",
       "      <td>Urban</td>\n",
       "      <td>Y</td>\n",
       "    </tr>\n",
       "    <tr>\n",
       "      <th>3</th>\n",
       "      <td>LP001006</td>\n",
       "      <td>Male</td>\n",
       "      <td>Yes</td>\n",
       "      <td>0</td>\n",
       "      <td>Not Graduate</td>\n",
       "      <td>No</td>\n",
       "      <td>2583</td>\n",
       "      <td>2358.0</td>\n",
       "      <td>120.0</td>\n",
       "      <td>360.0</td>\n",
       "      <td>1.0</td>\n",
       "      <td>Urban</td>\n",
       "      <td>Y</td>\n",
       "    </tr>\n",
       "    <tr>\n",
       "      <th>4</th>\n",
       "      <td>LP001008</td>\n",
       "      <td>Male</td>\n",
       "      <td>No</td>\n",
       "      <td>0</td>\n",
       "      <td>Graduate</td>\n",
       "      <td>No</td>\n",
       "      <td>6000</td>\n",
       "      <td>0.0</td>\n",
       "      <td>141.0</td>\n",
       "      <td>360.0</td>\n",
       "      <td>1.0</td>\n",
       "      <td>Urban</td>\n",
       "      <td>Y</td>\n",
       "    </tr>\n",
       "    <tr>\n",
       "      <th>5</th>\n",
       "      <td>LP001011</td>\n",
       "      <td>Male</td>\n",
       "      <td>Yes</td>\n",
       "      <td>2</td>\n",
       "      <td>Graduate</td>\n",
       "      <td>Yes</td>\n",
       "      <td>5417</td>\n",
       "      <td>4196.0</td>\n",
       "      <td>267.0</td>\n",
       "      <td>360.0</td>\n",
       "      <td>1.0</td>\n",
       "      <td>Urban</td>\n",
       "      <td>Y</td>\n",
       "    </tr>\n",
       "  </tbody>\n",
       "</table>\n",
       "</div>"
      ],
      "text/plain": [
       "    Loan_ID Gender Married Dependents     Education Self_Employed  \\\n",
       "1  LP001003   Male     Yes          1      Graduate            No   \n",
       "2  LP001005   Male     Yes          0      Graduate           Yes   \n",
       "3  LP001006   Male     Yes          0  Not Graduate            No   \n",
       "4  LP001008   Male      No          0      Graduate            No   \n",
       "5  LP001011   Male     Yes          2      Graduate           Yes   \n",
       "\n",
       "   ApplicantIncome  CoapplicantIncome  LoanAmount  Loan_Amount_Term  \\\n",
       "1             4583             1508.0       128.0             360.0   \n",
       "2             3000                0.0        66.0             360.0   \n",
       "3             2583             2358.0       120.0             360.0   \n",
       "4             6000                0.0       141.0             360.0   \n",
       "5             5417             4196.0       267.0             360.0   \n",
       "\n",
       "   Credit_History Property_Area Loan_Status  \n",
       "1             1.0         Rural           N  \n",
       "2             1.0         Urban           Y  \n",
       "3             1.0         Urban           Y  \n",
       "4             1.0         Urban           Y  \n",
       "5             1.0         Urban           Y  "
      ]
     },
     "execution_count": 3,
     "metadata": {},
     "output_type": "execute_result"
    }
   ],
   "source": [
    "df = pd.read_csv('loan_problem_3.csv')\n",
    "df = df.dropna()\n",
    "df.head()"
   ]
  },
  {
   "cell_type": "code",
   "execution_count": 4,
   "metadata": {},
   "outputs": [
    {
     "data": {
      "text/plain": [
       "Index(['Loan_ID', 'Gender', 'Married', 'Dependents', 'Education',\n",
       "       'Self_Employed', 'ApplicantIncome', 'CoapplicantIncome', 'LoanAmount',\n",
       "       'Loan_Amount_Term', 'Credit_History', 'Property_Area', 'Loan_Status'],\n",
       "      dtype='object')"
      ]
     },
     "execution_count": 4,
     "metadata": {},
     "output_type": "execute_result"
    }
   ],
   "source": [
    "df.columns"
   ]
  },
  {
   "cell_type": "code",
   "execution_count": 5,
   "metadata": {},
   "outputs": [
    {
     "data": {
      "text/html": [
       "<div>\n",
       "<style>\n",
       "    .dataframe thead tr:only-child th {\n",
       "        text-align: right;\n",
       "    }\n",
       "\n",
       "    .dataframe thead th {\n",
       "        text-align: left;\n",
       "    }\n",
       "\n",
       "    .dataframe tbody tr th {\n",
       "        vertical-align: top;\n",
       "    }\n",
       "</style>\n",
       "<table border=\"1\" class=\"dataframe\">\n",
       "  <thead>\n",
       "    <tr style=\"text-align: right;\">\n",
       "      <th></th>\n",
       "      <th>Loan_ID</th>\n",
       "      <th>Gender</th>\n",
       "      <th>Married</th>\n",
       "      <th>Dependents</th>\n",
       "      <th>Education</th>\n",
       "      <th>Self_Employed</th>\n",
       "      <th>ApplicantIncome</th>\n",
       "      <th>CoapplicantIncome</th>\n",
       "      <th>LoanAmount</th>\n",
       "      <th>Loan_Amount_Term</th>\n",
       "      <th>Credit_History</th>\n",
       "      <th>Property_Area</th>\n",
       "      <th>Loan_Status</th>\n",
       "    </tr>\n",
       "  </thead>\n",
       "  <tbody>\n",
       "    <tr>\n",
       "      <th>1</th>\n",
       "      <td>LP001003</td>\n",
       "      <td>Male</td>\n",
       "      <td>Yes</td>\n",
       "      <td>1</td>\n",
       "      <td>Graduate</td>\n",
       "      <td>No</td>\n",
       "      <td>4583</td>\n",
       "      <td>1508.0</td>\n",
       "      <td>128.0</td>\n",
       "      <td>360.0</td>\n",
       "      <td>1.0</td>\n",
       "      <td>Rural</td>\n",
       "      <td>0</td>\n",
       "    </tr>\n",
       "    <tr>\n",
       "      <th>2</th>\n",
       "      <td>LP001005</td>\n",
       "      <td>Male</td>\n",
       "      <td>Yes</td>\n",
       "      <td>0</td>\n",
       "      <td>Graduate</td>\n",
       "      <td>Yes</td>\n",
       "      <td>3000</td>\n",
       "      <td>0.0</td>\n",
       "      <td>66.0</td>\n",
       "      <td>360.0</td>\n",
       "      <td>1.0</td>\n",
       "      <td>Urban</td>\n",
       "      <td>1</td>\n",
       "    </tr>\n",
       "    <tr>\n",
       "      <th>3</th>\n",
       "      <td>LP001006</td>\n",
       "      <td>Male</td>\n",
       "      <td>Yes</td>\n",
       "      <td>0</td>\n",
       "      <td>Not Graduate</td>\n",
       "      <td>No</td>\n",
       "      <td>2583</td>\n",
       "      <td>2358.0</td>\n",
       "      <td>120.0</td>\n",
       "      <td>360.0</td>\n",
       "      <td>1.0</td>\n",
       "      <td>Urban</td>\n",
       "      <td>1</td>\n",
       "    </tr>\n",
       "    <tr>\n",
       "      <th>4</th>\n",
       "      <td>LP001008</td>\n",
       "      <td>Male</td>\n",
       "      <td>No</td>\n",
       "      <td>0</td>\n",
       "      <td>Graduate</td>\n",
       "      <td>No</td>\n",
       "      <td>6000</td>\n",
       "      <td>0.0</td>\n",
       "      <td>141.0</td>\n",
       "      <td>360.0</td>\n",
       "      <td>1.0</td>\n",
       "      <td>Urban</td>\n",
       "      <td>1</td>\n",
       "    </tr>\n",
       "    <tr>\n",
       "      <th>5</th>\n",
       "      <td>LP001011</td>\n",
       "      <td>Male</td>\n",
       "      <td>Yes</td>\n",
       "      <td>2</td>\n",
       "      <td>Graduate</td>\n",
       "      <td>Yes</td>\n",
       "      <td>5417</td>\n",
       "      <td>4196.0</td>\n",
       "      <td>267.0</td>\n",
       "      <td>360.0</td>\n",
       "      <td>1.0</td>\n",
       "      <td>Urban</td>\n",
       "      <td>1</td>\n",
       "    </tr>\n",
       "  </tbody>\n",
       "</table>\n",
       "</div>"
      ],
      "text/plain": [
       "    Loan_ID Gender Married Dependents     Education Self_Employed  \\\n",
       "1  LP001003   Male     Yes          1      Graduate            No   \n",
       "2  LP001005   Male     Yes          0      Graduate           Yes   \n",
       "3  LP001006   Male     Yes          0  Not Graduate            No   \n",
       "4  LP001008   Male      No          0      Graduate            No   \n",
       "5  LP001011   Male     Yes          2      Graduate           Yes   \n",
       "\n",
       "   ApplicantIncome  CoapplicantIncome  LoanAmount  Loan_Amount_Term  \\\n",
       "1             4583             1508.0       128.0             360.0   \n",
       "2             3000                0.0        66.0             360.0   \n",
       "3             2583             2358.0       120.0             360.0   \n",
       "4             6000                0.0       141.0             360.0   \n",
       "5             5417             4196.0       267.0             360.0   \n",
       "\n",
       "   Credit_History Property_Area  Loan_Status  \n",
       "1             1.0         Rural            0  \n",
       "2             1.0         Urban            1  \n",
       "3             1.0         Urban            1  \n",
       "4             1.0         Urban            1  \n",
       "5             1.0         Urban            1  "
      ]
     },
     "execution_count": 5,
     "metadata": {},
     "output_type": "execute_result"
    }
   ],
   "source": [
    "df['Loan_Status'] = df['Loan_Status'].apply(lambda x: 1 if x == 'Y' else 0 )\n",
    "df.head()"
   ]
  },
  {
   "cell_type": "code",
   "execution_count": 6,
   "metadata": {
    "collapsed": true
   },
   "outputs": [],
   "source": [
    "numeric_columns =['ApplicantIncome','CoapplicantIncome','LoanAmount','Loan_Amount_Term','Credit_History']\n",
    "feature_columns = "
   ]
  },
  {
   "cell_type": "code",
   "execution_count": 7,
   "metadata": {
    "collapsed": true
   },
   "outputs": [],
   "source": [
    "df[numeric_columns] = df[numeric_columns].apply(lambda x: (x - x.min())/(x.max() - x.min()))"
   ]
  },
  {
   "cell_type": "code",
   "execution_count": 9,
   "metadata": {},
   "outputs": [],
   "source": [
    "X = df.drop(['Loan_ID','Loan_Status'],axis=1)\n",
    "y = df['Loan_Status']"
   ]
  },
  {
   "cell_type": "code",
   "execution_count": 11,
   "metadata": {},
   "outputs": [
    {
     "name": "stdout",
     "output_type": "stream",
     "text": [
      "<class 'pandas.core.frame.DataFrame'>\n",
      "Int64Index: 480 entries, 1 to 613\n",
      "Data columns (total 11 columns):\n",
      "Gender               480 non-null object\n",
      "Married              480 non-null object\n",
      "Dependents           480 non-null object\n",
      "Education            480 non-null object\n",
      "Self_Employed        480 non-null object\n",
      "ApplicantIncome      480 non-null float64\n",
      "CoapplicantIncome    480 non-null float64\n",
      "LoanAmount           480 non-null float64\n",
      "Loan_Amount_Term     480 non-null float64\n",
      "Credit_History       480 non-null float64\n",
      "Property_Area        480 non-null object\n",
      "dtypes: float64(5), object(6)\n",
      "memory usage: 45.0+ KB\n"
     ]
    }
   ],
   "source": [
    "X.info()"
   ]
  },
  {
   "cell_type": "code",
   "execution_count": 12,
   "metadata": {
    "collapsed": true
   },
   "outputs": [],
   "source": [
    "gender_feature = tf.feature_column.categorical_column_with_hash_bucket('Gender',hash_bucket_size=3)\n",
    "married_feature = tf.feature_column.categorical_column_with_hash_bucket('Married',hash_bucket_size=10)\n",
    "dependents_feature = tf.feature_column.categorical_column_with_hash_bucket('Dependents',hash_bucket_size=10)\n",
    "education_feature = tf.feature_column.categorical_column_with_hash_bucket('Education',hash_bucket_size=10)\n",
    "self_employed_feature = tf.feature_column.categorical_column_with_hash_bucket('Self_Employed',hash_bucket_size=10)\n",
    "applicant_income_feature = tf.feature_column.numeric_column('ApplicantIncome')\n",
    "coapplicant_income_feature = tf.feature_column.numeric_column('CoapplicantIncome')\n",
    "loan_amount_feature = tf.feature_column.numeric_column('LoanAmount')\n",
    "loan_amount_term_feature = tf.feature_column.numeric_column('Loan_Amount_Term')\n",
    "credit_history_feature = tf.feature_column.numeric_column('Credit_History')\n",
    "property_area_feature = tf.feature_column.categorical_column_with_hash_bucket('Property_Area',hash_bucket_size=10)"
   ]
  },
  {
   "cell_type": "code",
   "execution_count": 13,
   "metadata": {
    "collapsed": true
   },
   "outputs": [],
   "source": [
    "tf_feature_list =[\n",
    "gender_feature,\n",
    "married_feature,\n",
    "dependents_feature,\n",
    "education_feature,\n",
    "self_employed_feature,\n",
    "applicant_income_feature,\n",
    "coapplicant_income_feature,\n",
    "loan_amount_feature,\n",
    "loan_amount_term_feature,\n",
    "credit_history_feature,\n",
    "property_area_feature    \n",
    "]"
   ]
  },
  {
   "cell_type": "code",
   "execution_count": 14,
   "metadata": {
    "collapsed": true
   },
   "outputs": [],
   "source": [
    "X_train, X_test, y_train, y_test = train_test_split(X, y, test_size=0.30, random_state=101)"
   ]
  },
  {
   "cell_type": "code",
   "execution_count": 15,
   "metadata": {
    "collapsed": true
   },
   "outputs": [],
   "source": [
    "train_input_func = tf.estimator.inputs.pandas_input_fn(x=X_train,y=y_train,batch_size=10,num_epochs=1000,shuffle=True)"
   ]
  },
  {
   "cell_type": "code",
   "execution_count": 16,
   "metadata": {},
   "outputs": [
    {
     "name": "stdout",
     "output_type": "stream",
     "text": [
      "INFO:tensorflow:Using default config.\n",
      "WARNING:tensorflow:Using temporary folder as model directory: /var/folders/mk/6ts23z1s0c53hhcxrsbkwjhm0000gn/T/tmpg8kkza6f\n",
      "INFO:tensorflow:Using config: {'_save_checkpoints_secs': 600, '_save_checkpoints_steps': None, '_session_config': None, '_model_dir': '/var/folders/mk/6ts23z1s0c53hhcxrsbkwjhm0000gn/T/tmpg8kkza6f', '_save_summary_steps': 100, '_log_step_count_steps': 100, '_tf_random_seed': 1, '_keep_checkpoint_max': 5, '_keep_checkpoint_every_n_hours': 10000}\n"
     ]
    }
   ],
   "source": [
    "lc_model = tf.estimator.LinearClassifier(feature_columns=tf_feature_list,n_classes=2)"
   ]
  },
  {
   "cell_type": "code",
   "execution_count": 70,
   "metadata": {},
   "outputs": [
    {
     "name": "stdout",
     "output_type": "stream",
     "text": [
      "INFO:tensorflow:Create CheckpointSaverHook.\n",
      "INFO:tensorflow:Restoring parameters from /var/folders/mk/6ts23z1s0c53hhcxrsbkwjhm0000gn/T/tmpg8kkza6f/model.ckpt-21100\n",
      "INFO:tensorflow:Saving checkpoints for 21101 into /var/folders/mk/6ts23z1s0c53hhcxrsbkwjhm0000gn/T/tmpg8kkza6f/model.ckpt.\n",
      "INFO:tensorflow:step = 21101, loss = 4.27742\n",
      "INFO:tensorflow:global_step/sec: 124.689\n",
      "INFO:tensorflow:step = 21201, loss = 5.14137 (0.803 sec)\n",
      "INFO:tensorflow:global_step/sec: 130.879\n",
      "INFO:tensorflow:step = 21301, loss = 5.09145 (0.764 sec)\n",
      "INFO:tensorflow:global_step/sec: 132.277\n",
      "INFO:tensorflow:step = 21401, loss = 7.51538 (0.756 sec)\n",
      "INFO:tensorflow:global_step/sec: 138.292\n",
      "INFO:tensorflow:step = 21501, loss = 2.60291 (0.723 sec)\n",
      "INFO:tensorflow:global_step/sec: 137.861\n",
      "INFO:tensorflow:step = 21601, loss = 2.50459 (0.726 sec)\n",
      "INFO:tensorflow:global_step/sec: 131.958\n",
      "INFO:tensorflow:step = 21701, loss = 5.11517 (0.757 sec)\n",
      "INFO:tensorflow:global_step/sec: 139.172\n",
      "INFO:tensorflow:step = 21801, loss = 5.18951 (0.718 sec)\n",
      "INFO:tensorflow:global_step/sec: 125.544\n",
      "INFO:tensorflow:step = 21901, loss = 1.51565 (0.797 sec)\n",
      "INFO:tensorflow:global_step/sec: 135.996\n",
      "INFO:tensorflow:step = 22001, loss = 7.66725 (0.735 sec)\n",
      "INFO:tensorflow:global_step/sec: 132.8\n",
      "INFO:tensorflow:step = 22101, loss = 2.26572 (0.753 sec)\n",
      "INFO:tensorflow:global_step/sec: 135.892\n",
      "INFO:tensorflow:step = 22201, loss = 2.9373 (0.736 sec)\n",
      "INFO:tensorflow:global_step/sec: 133.697\n",
      "INFO:tensorflow:step = 22301, loss = 1.79778 (0.748 sec)\n",
      "INFO:tensorflow:global_step/sec: 121.858\n",
      "INFO:tensorflow:step = 22401, loss = 2.6755 (0.821 sec)\n",
      "INFO:tensorflow:global_step/sec: 144.908\n",
      "INFO:tensorflow:step = 22501, loss = 4.47681 (0.690 sec)\n",
      "INFO:tensorflow:global_step/sec: 143.308\n",
      "INFO:tensorflow:step = 22601, loss = 6.807 (0.698 sec)\n",
      "INFO:tensorflow:global_step/sec: 132.406\n",
      "INFO:tensorflow:step = 22701, loss = 4.00484 (0.755 sec)\n",
      "INFO:tensorflow:global_step/sec: 132.738\n",
      "INFO:tensorflow:step = 22801, loss = 5.12098 (0.753 sec)\n",
      "INFO:tensorflow:global_step/sec: 130.397\n",
      "INFO:tensorflow:step = 22901, loss = 5.62709 (0.767 sec)\n",
      "INFO:tensorflow:global_step/sec: 131.025\n",
      "INFO:tensorflow:step = 23001, loss = 5.64034 (0.772 sec)\n",
      "INFO:tensorflow:global_step/sec: 133.506\n",
      "INFO:tensorflow:step = 23101, loss = 2.87117 (0.740 sec)\n",
      "INFO:tensorflow:global_step/sec: 134.549\n",
      "INFO:tensorflow:step = 23201, loss = 6.47419 (0.743 sec)\n",
      "INFO:tensorflow:global_step/sec: 134.812\n",
      "INFO:tensorflow:step = 23301, loss = 2.92064 (0.742 sec)\n",
      "INFO:tensorflow:global_step/sec: 135.175\n",
      "INFO:tensorflow:step = 23401, loss = 4.43998 (0.740 sec)\n",
      "INFO:tensorflow:global_step/sec: 129.09\n",
      "INFO:tensorflow:step = 23501, loss = 6.34445 (0.775 sec)\n",
      "INFO:tensorflow:global_step/sec: 120.02\n",
      "INFO:tensorflow:step = 23601, loss = 6.66538 (0.833 sec)\n",
      "INFO:tensorflow:global_step/sec: 117.522\n",
      "INFO:tensorflow:step = 23701, loss = 4.67499 (0.851 sec)\n",
      "INFO:tensorflow:global_step/sec: 136.454\n",
      "INFO:tensorflow:step = 23801, loss = 4.59383 (0.734 sec)\n",
      "INFO:tensorflow:global_step/sec: 139.907\n",
      "INFO:tensorflow:step = 23901, loss = 3.74464 (0.714 sec)\n",
      "INFO:tensorflow:global_step/sec: 139.809\n",
      "INFO:tensorflow:step = 24001, loss = 2.39354 (0.715 sec)\n",
      "INFO:tensorflow:global_step/sec: 118.37\n",
      "INFO:tensorflow:step = 24101, loss = 2.87129 (0.855 sec)\n",
      "INFO:tensorflow:global_step/sec: 118.046\n",
      "INFO:tensorflow:step = 24201, loss = 2.57358 (0.836 sec)\n",
      "INFO:tensorflow:global_step/sec: 129.363\n",
      "INFO:tensorflow:step = 24301, loss = 2.07227 (0.774 sec)\n",
      "INFO:tensorflow:global_step/sec: 141.049\n",
      "INFO:tensorflow:step = 24401, loss = 5.65888 (0.709 sec)\n",
      "INFO:tensorflow:global_step/sec: 129.546\n",
      "INFO:tensorflow:step = 24501, loss = 3.05458 (0.772 sec)\n",
      "INFO:tensorflow:global_step/sec: 131.957\n",
      "INFO:tensorflow:step = 24601, loss = 3.91617 (0.758 sec)\n",
      "INFO:tensorflow:global_step/sec: 130.339\n",
      "INFO:tensorflow:step = 24701, loss = 7.59628 (0.768 sec)\n",
      "INFO:tensorflow:global_step/sec: 127.821\n",
      "INFO:tensorflow:step = 24801, loss = 2.00611 (0.783 sec)\n",
      "INFO:tensorflow:global_step/sec: 132.463\n",
      "INFO:tensorflow:step = 24901, loss = 2.61645 (0.754 sec)\n",
      "INFO:tensorflow:global_step/sec: 105.867\n",
      "INFO:tensorflow:step = 25001, loss = 4.85795 (0.945 sec)\n",
      "INFO:tensorflow:global_step/sec: 132.175\n",
      "INFO:tensorflow:step = 25101, loss = 2.88873 (0.757 sec)\n",
      "INFO:tensorflow:global_step/sec: 137.974\n",
      "INFO:tensorflow:step = 25201, loss = 5.91699 (0.725 sec)\n",
      "INFO:tensorflow:global_step/sec: 133.972\n",
      "INFO:tensorflow:step = 25301, loss = 3.67844 (0.747 sec)\n",
      "INFO:tensorflow:global_step/sec: 133.229\n",
      "INFO:tensorflow:step = 25401, loss = 2.94802 (0.750 sec)\n",
      "INFO:tensorflow:global_step/sec: 134.08\n",
      "INFO:tensorflow:step = 25501, loss = 2.47561 (0.746 sec)\n",
      "INFO:tensorflow:global_step/sec: 123.287\n",
      "INFO:tensorflow:step = 25601, loss = 1.66452 (0.811 sec)\n",
      "INFO:tensorflow:global_step/sec: 128.129\n",
      "INFO:tensorflow:step = 25701, loss = 6.99069 (0.781 sec)\n",
      "INFO:tensorflow:global_step/sec: 131.886\n",
      "INFO:tensorflow:step = 25801, loss = 5.66066 (0.758 sec)\n",
      "INFO:tensorflow:global_step/sec: 130.124\n",
      "INFO:tensorflow:step = 25901, loss = 9.88371 (0.768 sec)\n",
      "INFO:tensorflow:global_step/sec: 132.448\n",
      "INFO:tensorflow:step = 26001, loss = 3.98847 (0.755 sec)\n",
      "INFO:tensorflow:global_step/sec: 132.005\n",
      "INFO:tensorflow:step = 26101, loss = 4.09553 (0.758 sec)\n",
      "INFO:tensorflow:global_step/sec: 130.656\n",
      "INFO:tensorflow:step = 26201, loss = 4.46079 (0.765 sec)\n",
      "INFO:tensorflow:global_step/sec: 132.494\n",
      "INFO:tensorflow:step = 26301, loss = 2.41023 (0.755 sec)\n",
      "INFO:tensorflow:global_step/sec: 135.254\n",
      "INFO:tensorflow:step = 26401, loss = 1.25451 (0.739 sec)\n",
      "INFO:tensorflow:global_step/sec: 132.25\n",
      "INFO:tensorflow:step = 26501, loss = 7.86096 (0.756 sec)\n",
      "INFO:tensorflow:global_step/sec: 131.054\n",
      "INFO:tensorflow:step = 26601, loss = 4.43797 (0.763 sec)\n",
      "INFO:tensorflow:global_step/sec: 145.747\n",
      "INFO:tensorflow:step = 26701, loss = 6.37521 (0.686 sec)\n",
      "INFO:tensorflow:global_step/sec: 147.835\n",
      "INFO:tensorflow:step = 26801, loss = 6.6001 (0.683 sec)\n",
      "INFO:tensorflow:global_step/sec: 166.18\n",
      "INFO:tensorflow:step = 26901, loss = 6.08885 (0.595 sec)\n",
      "INFO:tensorflow:global_step/sec: 177.27\n",
      "INFO:tensorflow:step = 27001, loss = 4.38494 (0.570 sec)\n",
      "INFO:tensorflow:global_step/sec: 141.65\n",
      "INFO:tensorflow:step = 27101, loss = 4.87777 (0.700 sec)\n",
      "INFO:tensorflow:global_step/sec: 133.485\n",
      "INFO:tensorflow:step = 27201, loss = 5.06452 (0.749 sec)\n",
      "INFO:tensorflow:global_step/sec: 134.591\n",
      "INFO:tensorflow:step = 27301, loss = 3.78255 (0.743 sec)\n",
      "INFO:tensorflow:global_step/sec: 134.79\n",
      "INFO:tensorflow:step = 27401, loss = 6.54286 (0.743 sec)\n",
      "INFO:tensorflow:global_step/sec: 139.168\n",
      "INFO:tensorflow:step = 27501, loss = 3.05259 (0.718 sec)\n",
      "INFO:tensorflow:global_step/sec: 144.079\n",
      "INFO:tensorflow:step = 27601, loss = 6.15296 (0.694 sec)\n",
      "INFO:tensorflow:global_step/sec: 145.495\n",
      "INFO:tensorflow:step = 27701, loss = 4.32711 (0.687 sec)\n",
      "INFO:tensorflow:global_step/sec: 135.689\n",
      "INFO:tensorflow:step = 27801, loss = 2.36826 (0.737 sec)\n",
      "INFO:tensorflow:global_step/sec: 140.937\n",
      "INFO:tensorflow:step = 27901, loss = 4.96281 (0.710 sec)\n",
      "INFO:tensorflow:global_step/sec: 137.121\n",
      "INFO:tensorflow:step = 28001, loss = 3.37061 (0.729 sec)\n",
      "INFO:tensorflow:global_step/sec: 133.142\n",
      "INFO:tensorflow:step = 28101, loss = 6.28757 (0.751 sec)\n",
      "INFO:tensorflow:global_step/sec: 134.289\n",
      "INFO:tensorflow:step = 28201, loss = 5.34612 (0.745 sec)\n",
      "INFO:tensorflow:global_step/sec: 136.937\n",
      "INFO:tensorflow:step = 28301, loss = 2.85207 (0.730 sec)\n",
      "INFO:tensorflow:global_step/sec: 136.457\n",
      "INFO:tensorflow:step = 28401, loss = 3.74735 (0.733 sec)\n",
      "INFO:tensorflow:global_step/sec: 135.551\n",
      "INFO:tensorflow:step = 28501, loss = 2.63915 (0.738 sec)\n",
      "INFO:tensorflow:global_step/sec: 132.368\n",
      "INFO:tensorflow:step = 28601, loss = 3.18621 (0.756 sec)\n",
      "INFO:tensorflow:global_step/sec: 136.101\n",
      "INFO:tensorflow:step = 28701, loss = 3.20366 (0.735 sec)\n",
      "INFO:tensorflow:global_step/sec: 140.227\n",
      "INFO:tensorflow:step = 28801, loss = 6.18819 (0.713 sec)\n",
      "INFO:tensorflow:global_step/sec: 134.758\n",
      "INFO:tensorflow:step = 28901, loss = 3.52702 (0.742 sec)\n",
      "INFO:tensorflow:global_step/sec: 134.622\n",
      "INFO:tensorflow:step = 29001, loss = 5.20478 (0.743 sec)\n",
      "INFO:tensorflow:global_step/sec: 133.986\n",
      "INFO:tensorflow:step = 29101, loss = 6.60524 (0.746 sec)\n",
      "INFO:tensorflow:global_step/sec: 135.612\n"
     ]
    },
    {
     "name": "stdout",
     "output_type": "stream",
     "text": [
      "INFO:tensorflow:step = 29201, loss = 5.18261 (0.738 sec)\n",
      "INFO:tensorflow:global_step/sec: 135.329\n",
      "INFO:tensorflow:step = 29301, loss = 4.66549 (0.739 sec)\n",
      "INFO:tensorflow:global_step/sec: 138.344\n",
      "INFO:tensorflow:step = 29401, loss = 3.02095 (0.723 sec)\n",
      "INFO:tensorflow:global_step/sec: 144.13\n",
      "INFO:tensorflow:step = 29501, loss = 3.7211 (0.694 sec)\n",
      "INFO:tensorflow:global_step/sec: 134.254\n",
      "INFO:tensorflow:step = 29601, loss = 2.93614 (0.745 sec)\n",
      "INFO:tensorflow:global_step/sec: 138.105\n",
      "INFO:tensorflow:step = 29701, loss = 2.2464 (0.724 sec)\n",
      "INFO:tensorflow:global_step/sec: 132.26\n",
      "INFO:tensorflow:step = 29801, loss = 4.31845 (0.757 sec)\n",
      "INFO:tensorflow:global_step/sec: 138.602\n",
      "INFO:tensorflow:step = 29901, loss = 4.50672 (0.721 sec)\n",
      "INFO:tensorflow:global_step/sec: 135.783\n",
      "INFO:tensorflow:step = 30001, loss = 4.5378 (0.736 sec)\n",
      "INFO:tensorflow:global_step/sec: 135.338\n",
      "INFO:tensorflow:step = 30101, loss = 2.85724 (0.739 sec)\n",
      "INFO:tensorflow:global_step/sec: 132.201\n",
      "INFO:tensorflow:step = 30201, loss = 3.65588 (0.756 sec)\n",
      "INFO:tensorflow:global_step/sec: 135.084\n",
      "INFO:tensorflow:step = 30301, loss = 2.91898 (0.740 sec)\n",
      "INFO:tensorflow:global_step/sec: 135.477\n",
      "INFO:tensorflow:step = 30401, loss = 2.4749 (0.738 sec)\n",
      "INFO:tensorflow:global_step/sec: 134.763\n",
      "INFO:tensorflow:step = 30501, loss = 3.52391 (0.742 sec)\n",
      "INFO:tensorflow:global_step/sec: 135.289\n",
      "INFO:tensorflow:step = 30601, loss = 3.97436 (0.739 sec)\n",
      "INFO:tensorflow:global_step/sec: 133.793\n",
      "INFO:tensorflow:step = 30701, loss = 2.63981 (0.747 sec)\n",
      "INFO:tensorflow:global_step/sec: 148.266\n",
      "INFO:tensorflow:step = 30801, loss = 3.39104 (0.675 sec)\n",
      "INFO:tensorflow:global_step/sec: 148.828\n",
      "INFO:tensorflow:step = 30901, loss = 2.85842 (0.672 sec)\n",
      "INFO:tensorflow:global_step/sec: 134.958\n",
      "INFO:tensorflow:step = 31001, loss = 3.90038 (0.741 sec)\n",
      "INFO:tensorflow:Saving checkpoints for 31100 into /var/folders/mk/6ts23z1s0c53hhcxrsbkwjhm0000gn/T/tmpg8kkza6f/model.ckpt.\n",
      "INFO:tensorflow:Loss for final step: 2.38914.\n"
     ]
    },
    {
     "data": {
      "text/plain": [
       "<tensorflow.python.estimator.canned.linear.LinearClassifier at 0x117cc42e8>"
      ]
     },
     "execution_count": 70,
     "metadata": {},
     "output_type": "execute_result"
    }
   ],
   "source": [
    "lc_model.train(input_fn=train_input_func,steps=10000)"
   ]
  },
  {
   "cell_type": "code",
   "execution_count": 71,
   "metadata": {
    "collapsed": true
   },
   "outputs": [],
   "source": [
    "test_input_func = tf.estimator.inputs.pandas_input_fn(x=X_test,batch_size=10,num_epochs=1,shuffle=False)"
   ]
  },
  {
   "cell_type": "code",
   "execution_count": 72,
   "metadata": {},
   "outputs": [
    {
     "name": "stdout",
     "output_type": "stream",
     "text": [
      "INFO:tensorflow:Restoring parameters from /var/folders/mk/6ts23z1s0c53hhcxrsbkwjhm0000gn/T/tmpg8kkza6f/model.ckpt-31100\n"
     ]
    }
   ],
   "source": [
    "preds = list(lc_model.predict(input_fn=test_input_func))"
   ]
  },
  {
   "cell_type": "code",
   "execution_count": 73,
   "metadata": {},
   "outputs": [],
   "source": [
    "y_preds = [item['class_ids'][0] for item in preds]"
   ]
  },
  {
   "cell_type": "code",
   "execution_count": 74,
   "metadata": {},
   "outputs": [
    {
     "name": "stdout",
     "output_type": "stream",
     "text": [
      "             precision    recall  f1-score   support\n",
      "\n",
      "          0       0.83      0.34      0.48        44\n",
      "          1       0.77      0.97      0.86       100\n",
      "\n",
      "avg / total       0.79      0.78      0.74       144\n",
      "\n"
     ]
    }
   ],
   "source": [
    "print(classification_report(y_test,y_preds))"
   ]
  },
  {
   "cell_type": "code",
   "execution_count": 75,
   "metadata": {},
   "outputs": [
    {
     "name": "stdout",
     "output_type": "stream",
     "text": [
      "0.777777777778\n"
     ]
    }
   ],
   "source": [
    "print(accuracy_score(y_test,y_preds))"
   ]
  },
  {
   "cell_type": "markdown",
   "metadata": {},
   "source": [
    "5000 Steps:\n",
    "  Accuracy: 0.78, Precision: 0.79, Recall: 0.78, F1: 0.74\n",
    "\n",
    "1000 steps:\n",
    "  Accuracy: 0.78, Precision: 0.81, Recall: 0.78, F1: 0.75"
   ]
  },
  {
   "cell_type": "code",
   "execution_count": null,
   "metadata": {
    "collapsed": true
   },
   "outputs": [],
   "source": []
  }
 ],
 "metadata": {
  "kernelspec": {
   "display_name": "Python 3",
   "language": "python",
   "name": "python3"
  },
  "language_info": {
   "codemirror_mode": {
    "name": "ipython",
    "version": 3
   },
   "file_extension": ".py",
   "mimetype": "text/x-python",
   "name": "python",
   "nbconvert_exporter": "python",
   "pygments_lexer": "ipython3",
   "version": "3.5.4"
  }
 },
 "nbformat": 4,
 "nbformat_minor": 2
}
